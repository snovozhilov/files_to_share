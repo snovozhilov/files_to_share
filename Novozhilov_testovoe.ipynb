{
 "cells": [
  {
   "cell_type": "markdown",
   "metadata": {},
   "source": [
    "#### Задание\n",
    "Предлагается  предаггрегированные данные по пользователям \n",
    "Cust_id – идентификатор пользователя\n",
    "Source – утм-метки пользователя \n",
    "Orders – кол-во заказов пользователя \n",
    "LTV – Life time value:  сколько принес пользователь за весь период жизни на платформе \n",
    "\n",
    "1.  Для каждой строки требуется вычленить source, medium, campaign пользователя \n",
    "2.  Посчитайте средний LTV на пользователя,  и среднее кол-во заказов  сравните поканально (source). Есть ли значимые различия? \n",
    "3.  Какой из каналов на ваш взгляд более эффективно работает \n",
    "4.  Можно ли оптимизировать каждый из каналов? \n",
    "\n",
    "Предложите и посчитайте ещё 2-3 показателя, характеризующих качество групп привлекаемой аудитории. Проанализируйте полученные результаты и опишите суть различий между группами.\n",
    "Расчётную часть задачи выполните на  Python.\n",
    "К заданию приложите ваш скрипт и краткий отчёт, включающий анализ и выводы.\n",
    "<a id='nachalo'></a>"
   ]
  },
  {
   "cell_type": "markdown",
   "metadata": {},
   "source": [
    "### Вычисления.  \n",
    "### или можно сразу [перейти к выводам с картинками](#summary)"
   ]
  },
  {
   "cell_type": "code",
   "execution_count": 1,
   "metadata": {},
   "outputs": [],
   "source": [
    "# уcтановка pandas_profiling: pip install pandas-profiling\n",
    "import numpy as np\n",
    "import pandas as pd\n",
    "from urllib.parse import urlsplit, parse_qs\n",
    "import matplotlib.pyplot as plt\n",
    "import pandas_profiling"
   ]
  },
  {
   "cell_type": "markdown",
   "metadata": {},
   "source": [
    "## 1.\n",
    "###### Для каждой строки требуется вычленить source, medium, campaign пользователя"
   ]
  },
  {
   "cell_type": "markdown",
   "metadata": {},
   "source": [
    "#### цсв -> датафрейм"
   ]
  },
  {
   "cell_type": "code",
   "execution_count": 2,
   "metadata": {},
   "outputs": [
    {
     "data": {
      "text/html": [
       "<div>\n",
       "<style scoped>\n",
       "    .dataframe tbody tr th:only-of-type {\n",
       "        vertical-align: middle;\n",
       "    }\n",
       "\n",
       "    .dataframe tbody tr th {\n",
       "        vertical-align: top;\n",
       "    }\n",
       "\n",
       "    .dataframe thead th {\n",
       "        text-align: right;\n",
       "    }\n",
       "</style>\n",
       "<table border=\"1\" class=\"dataframe\">\n",
       "  <thead>\n",
       "    <tr style=\"text-align: right;\">\n",
       "      <th></th>\n",
       "      <th>cust_id</th>\n",
       "      <th>source</th>\n",
       "      <th>orders</th>\n",
       "      <th>ltv</th>\n",
       "    </tr>\n",
       "  </thead>\n",
       "  <tbody>\n",
       "    <tr>\n",
       "      <th>0</th>\n",
       "      <td>859</td>\n",
       "      <td>?utm_source=google&amp;utm_medium=cpc&amp;utm_campaign...</td>\n",
       "      <td>28</td>\n",
       "      <td>913</td>\n",
       "    </tr>\n",
       "    <tr>\n",
       "      <th>1</th>\n",
       "      <td>232</td>\n",
       "      <td>?utm_source=google&amp;utm_medium=cpc&amp;utm_campaign...</td>\n",
       "      <td>18</td>\n",
       "      <td>3157</td>\n",
       "    </tr>\n",
       "  </tbody>\n",
       "</table>\n",
       "</div>"
      ],
      "text/plain": [
       "   cust_id                                             source  orders   ltv\n",
       "0      859  ?utm_source=google&utm_medium=cpc&utm_campaign...      28   913\n",
       "1      232  ?utm_source=google&utm_medium=cpc&utm_campaign...      18  3157"
      ]
     },
     "execution_count": 2,
     "metadata": {},
     "output_type": "execute_result"
    }
   ],
   "source": [
    "df = pd.read_csv('/Users/s.novozhilov/Downloads/data_test_mktg_anlst.csv', delimiter=';')\n",
    "df.head(2)"
   ]
  },
  {
   "cell_type": "markdown",
   "metadata": {},
   "source": [
    "#### Парсим метки, кладем в df"
   ]
  },
  {
   "cell_type": "code",
   "execution_count": 3,
   "metadata": {},
   "outputs": [],
   "source": [
    "def parse_utm(row, utm_name):\n",
    "    query_string = urlsplit(row[\"source\"]).query\n",
    "    utm = parse_qs(query_string)\n",
    "    return utm[utm_name][0]"
   ]
  },
  {
   "cell_type": "code",
   "execution_count": 4,
   "metadata": {},
   "outputs": [],
   "source": [
    "df[\"utm_source\"] = df.apply(parse_utm, axis = 1, utm_name = \"utm_source\")\n",
    "df[\"utm_medium\"] = df.apply(parse_utm, axis = 1, utm_name = \"utm_medium\")\n",
    "df[\"utm_campaign\"] = df.apply(parse_utm, axis = 1, utm_name = \"utm_campaign\")"
   ]
  },
  {
   "cell_type": "code",
   "execution_count": 5,
   "metadata": {},
   "outputs": [
    {
     "data": {
      "text/html": [
       "<div>\n",
       "<style scoped>\n",
       "    .dataframe tbody tr th:only-of-type {\n",
       "        vertical-align: middle;\n",
       "    }\n",
       "\n",
       "    .dataframe tbody tr th {\n",
       "        vertical-align: top;\n",
       "    }\n",
       "\n",
       "    .dataframe thead th {\n",
       "        text-align: right;\n",
       "    }\n",
       "</style>\n",
       "<table border=\"1\" class=\"dataframe\">\n",
       "  <thead>\n",
       "    <tr style=\"text-align: right;\">\n",
       "      <th></th>\n",
       "      <th>cust_id</th>\n",
       "      <th>source</th>\n",
       "      <th>orders</th>\n",
       "      <th>ltv</th>\n",
       "      <th>utm_source</th>\n",
       "      <th>utm_medium</th>\n",
       "      <th>utm_campaign</th>\n",
       "    </tr>\n",
       "  </thead>\n",
       "  <tbody>\n",
       "    <tr>\n",
       "      <th>0</th>\n",
       "      <td>859</td>\n",
       "      <td>?utm_source=google&amp;utm_medium=cpc&amp;utm_campaign...</td>\n",
       "      <td>28</td>\n",
       "      <td>913</td>\n",
       "      <td>google</td>\n",
       "      <td>cpc</td>\n",
       "      <td>demographic_targets_male_age25-34</td>\n",
       "    </tr>\n",
       "    <tr>\n",
       "      <th>1</th>\n",
       "      <td>232</td>\n",
       "      <td>?utm_source=google&amp;utm_medium=cpc&amp;utm_campaign...</td>\n",
       "      <td>18</td>\n",
       "      <td>3157</td>\n",
       "      <td>google</td>\n",
       "      <td>cpc</td>\n",
       "      <td>demographic_targets_female_age18-24</td>\n",
       "    </tr>\n",
       "    <tr>\n",
       "      <th>2</th>\n",
       "      <td>2523</td>\n",
       "      <td>?utm_source=mytarget&amp;utm_medium=cpc&amp;utm_campai...</td>\n",
       "      <td>1</td>\n",
       "      <td>1208</td>\n",
       "      <td>mytarget</td>\n",
       "      <td>cpc</td>\n",
       "      <td>demographic_targets_male_age25-34</td>\n",
       "    </tr>\n",
       "  </tbody>\n",
       "</table>\n",
       "</div>"
      ],
      "text/plain": [
       "   cust_id                                             source  orders   ltv  \\\n",
       "0      859  ?utm_source=google&utm_medium=cpc&utm_campaign...      28   913   \n",
       "1      232  ?utm_source=google&utm_medium=cpc&utm_campaign...      18  3157   \n",
       "2     2523  ?utm_source=mytarget&utm_medium=cpc&utm_campai...       1  1208   \n",
       "\n",
       "  utm_source utm_medium                         utm_campaign  \n",
       "0     google        cpc    demographic_targets_male_age25-34  \n",
       "1     google        cpc  demographic_targets_female_age18-24  \n",
       "2   mytarget        cpc    demographic_targets_male_age25-34  "
      ]
     },
     "execution_count": 5,
     "metadata": {},
     "output_type": "execute_result"
    }
   ],
   "source": [
    "df.head(3)"
   ]
  },
  {
   "cell_type": "markdown",
   "metadata": {},
   "source": [
    "####  Дополнительно вытащим пол и возраст"
   ]
  },
  {
   "cell_type": "code",
   "execution_count": 6,
   "metadata": {},
   "outputs": [],
   "source": [
    "def demographic_parse(row, utm, feature):\n",
    "    return row[utm].split('_')[feature]\n",
    "df[\"sex\"] = df.apply(demographic_parse, axis=1, utm=\"utm_campaign\", feature=2)\n",
    "df[\"age\"] = df.apply(demographic_parse, axis=1, utm=\"utm_campaign\", feature=3)"
   ]
  },
  {
   "cell_type": "code",
   "execution_count": 7,
   "metadata": {},
   "outputs": [],
   "source": [
    "#удаляем изначальные метки, чтобы не мешались\n",
    "df.drop(['source'], axis='columns', inplace=True)"
   ]
  },
  {
   "cell_type": "code",
   "execution_count": 8,
   "metadata": {},
   "outputs": [
    {
     "data": {
      "text/html": [
       "<div>\n",
       "<style scoped>\n",
       "    .dataframe tbody tr th:only-of-type {\n",
       "        vertical-align: middle;\n",
       "    }\n",
       "\n",
       "    .dataframe tbody tr th {\n",
       "        vertical-align: top;\n",
       "    }\n",
       "\n",
       "    .dataframe thead th {\n",
       "        text-align: right;\n",
       "    }\n",
       "</style>\n",
       "<table border=\"1\" class=\"dataframe\">\n",
       "  <thead>\n",
       "    <tr style=\"text-align: right;\">\n",
       "      <th></th>\n",
       "      <th>cust_id</th>\n",
       "      <th>orders</th>\n",
       "      <th>ltv</th>\n",
       "      <th>utm_source</th>\n",
       "      <th>utm_medium</th>\n",
       "      <th>utm_campaign</th>\n",
       "      <th>sex</th>\n",
       "      <th>age</th>\n",
       "    </tr>\n",
       "  </thead>\n",
       "  <tbody>\n",
       "    <tr>\n",
       "      <th>0</th>\n",
       "      <td>859</td>\n",
       "      <td>28</td>\n",
       "      <td>913</td>\n",
       "      <td>google</td>\n",
       "      <td>cpc</td>\n",
       "      <td>demographic_targets_male_age25-34</td>\n",
       "      <td>male</td>\n",
       "      <td>age25-34</td>\n",
       "    </tr>\n",
       "    <tr>\n",
       "      <th>1</th>\n",
       "      <td>232</td>\n",
       "      <td>18</td>\n",
       "      <td>3157</td>\n",
       "      <td>google</td>\n",
       "      <td>cpc</td>\n",
       "      <td>demographic_targets_female_age18-24</td>\n",
       "      <td>female</td>\n",
       "      <td>age18-24</td>\n",
       "    </tr>\n",
       "    <tr>\n",
       "      <th>2</th>\n",
       "      <td>2523</td>\n",
       "      <td>1</td>\n",
       "      <td>1208</td>\n",
       "      <td>mytarget</td>\n",
       "      <td>cpc</td>\n",
       "      <td>demographic_targets_male_age25-34</td>\n",
       "      <td>male</td>\n",
       "      <td>age25-34</td>\n",
       "    </tr>\n",
       "  </tbody>\n",
       "</table>\n",
       "</div>"
      ],
      "text/plain": [
       "   cust_id  orders   ltv utm_source utm_medium  \\\n",
       "0      859      28   913     google        cpc   \n",
       "1      232      18  3157     google        cpc   \n",
       "2     2523       1  1208   mytarget        cpc   \n",
       "\n",
       "                          utm_campaign     sex       age  \n",
       "0    demographic_targets_male_age25-34    male  age25-34  \n",
       "1  demographic_targets_female_age18-24  female  age18-24  \n",
       "2    demographic_targets_male_age25-34    male  age25-34  "
      ]
     },
     "execution_count": 8,
     "metadata": {},
     "output_type": "execute_result"
    }
   ],
   "source": [
    "# подготовленные данные\n",
    "df.head(3)"
   ]
  },
  {
   "cell_type": "markdown",
   "metadata": {},
   "source": [
    "## 2.\n",
    "##### Посчитайте средний LTV на пользователя, и среднее кол-во заказов сравните поканально (source). Есть ли значимые различия?"
   ]
  },
  {
   "cell_type": "markdown",
   "metadata": {},
   "source": [
    "#### быстрая (но информативная) разведка данных"
   ]
  },
  {
   "cell_type": "code",
   "execution_count": null,
   "metadata": {
    "scrolled": false
   },
   "outputs": [
    {
     "data": {
      "application/vnd.jupyter.widget-view+json": {
       "model_id": "88f554ee04904e71adce7f3c464bd854",
       "version_major": 2,
       "version_minor": 0
      },
      "text/plain": [
       "HBox(children=(HTML(value='Summarize dataset'), FloatProgress(value=0.0, max=22.0), HTML(value='')))"
      ]
     },
     "metadata": {},
     "output_type": "display_data"
    },
    {
     "name": "stdout",
     "output_type": "stream",
     "text": [
      "\n"
     ]
    },
    {
     "data": {
      "application/vnd.jupyter.widget-view+json": {
       "model_id": "209fd70ddef34403bfcaf03428ffd74a",
       "version_major": 2,
       "version_minor": 0
      },
      "text/plain": [
       "HBox(children=(HTML(value='Generate report structure'), FloatProgress(value=0.0, max=1.0), HTML(value='')))"
      ]
     },
     "metadata": {},
     "output_type": "display_data"
    }
   ],
   "source": [
    "pandas_profiling.ProfileReport(df)"
   ]
  },
  {
   "cell_type": "markdown",
   "metadata": {},
   "source": [
    "В данных пользователи уникальны. -> средний LTV на пользователя = средний LTV = **405.2**  \n",
    "среднее кол-во заказов = **30.6**  \n",
    "Распределения не перекошены, медианные значения LTV и заказов на уровне средних.\n",
    "\n",
    "У юзеров из каналов \"facebook\", \"google\" и \"mytarget\" среднее LTV **360**, **463** и **409** соответственно.\n",
    "\n",
    "Среднее кол-во заказов в каналах \"google\" и \"mytarget\" на одном уровне - 32,3 и 32,9. А вот из \"facebook\" делают в среднем на 7 заказов меньше (25,5).\n",
    "\n",
    "Лучшие средние метрики у пользователей из канала \"google\", но канал привлек всего 1000 пользователей (20%).  \n",
    "Хуже других выглядят метрики пользователей из \"facebook\" - заказы на пальзователя и LTV ниже средних (на 15% и 10% соответственно)."
   ]
  },
  {
   "cell_type": "code",
   "execution_count": null,
   "metadata": {},
   "outputs": [],
   "source": [
    "#Средний LTV по Каналам\n",
    "source_agg = df.groupby(by=\"utm_source\").agg(cust_count = ('cust_id', 'count'),\n",
    "         avg_orders = ('orders', 'mean'),\n",
    "         avg_ltv = ('ltv', 'mean'),\n",
    "         sum_orders = ('orders', 'sum'),\n",
    "         sum_ltv = ('ltv', 'sum'),\n",
    "        )\n",
    "#график\n",
    "source_agg.plot.bar(y=\"avg_ltv\", grid = True, title = \"Средний LTV по Каналам\")\n",
    "source_agg.plot.bar(y=\"avg_orders\", grid = True, title = \"Средний LTV по Каналам\")\n",
    "source_agg.iloc[:, 0:3].round(1)\n"
   ]
  },
  {
   "cell_type": "markdown",
   "metadata": {},
   "source": [
    "## 3.\n",
    "##### Какой из каналов на ваш взгляд более эффективно работает"
   ]
  },
  {
   "cell_type": "markdown",
   "metadata": {},
   "source": [
    "Чтобы понять, какой канал наиболее эффективно работает, я предлагаю опираться не на средние метрики а на суммарные.\n",
    "\n",
    "Из канала \"mytarget\" пришло 50% клиентов - столько же, сколько из \"google\" и \"facebook\" вместе взятых.  \n",
    "Суммарное количество заказов (82286) и суммарный LTV (1023034) составили больше остальных каналов вместе.\n",
    "\n",
    "Не смотря на то, что средний LTV у пользователей из \"google\" чуть лучше, \"mytarget\" - самый эффективный канал."
   ]
  },
  {
   "cell_type": "code",
   "execution_count": null,
   "metadata": {},
   "outputs": [],
   "source": [
    "source_agg.iloc[:, 3:5]"
   ]
  },
  {
   "cell_type": "code",
   "execution_count": null,
   "metadata": {},
   "outputs": [],
   "source": [
    "(source_agg.iloc[:, 3:5]\n",
    "     .plot.pie(subplots=True, figsize=(15, 15),autopct=\"%.1f%%\", startangle=90))"
   ]
  },
  {
   "cell_type": "markdown",
   "metadata": {},
   "source": [
    "## 4.\n",
    "##### Можно ли оптимизировать каждый из каналов?"
   ]
  },
  {
   "cell_type": "markdown",
   "metadata": {},
   "source": [
    "Как мы помним, у юзеров из \"google\" LTV больше, чем в других каналах (и больше среднего на 58 руб.) -> можем предположить, что повышение ставки***** для этого канала (модель utm_medium=cpc для всех) позволит привликать больше самых прибыльных клиентов.\n",
    "\n",
    "Но сначала проверим, нет ли специфики таргетов среди каналов, возможно мы сможем более точно настроить цены.  \n",
    "Посмотрим распределение таргетов по полу и возрасту в рамках каналов.\n",
    "№№№траблички про пол и про возраст\n",
    "\n",
    "\n",
    "* **Канал \"google\"**\n",
    "Самые высокие средние заказы и LTV, отдинаково распределены между обоими полами -> в \"google\" стоит повысить ставки для обоих полов.  \n",
    "Для всех возрастных групп в этом канале заказы и LTV так же выше средних -> стоит повысить ставки для всех возрастов, особенно для группы age18-24 - в ней самый высокий LTV среди всех возможных.\n",
    "\n",
    "* **Канал \"mytarget\"**\n",
    "В \"mytarget\" таргет на мужчин привликает более выгодных клиентов, чем таргет на женщин (LTV 430 против LTV 394) -> для мужчин надо повысить ставку.  \n",
    "В возрастной группе age35 LTV больше средного (на 10%) -> ставку повышаем.  \n",
    "А вот в группе age18-24 средний LTV на 12% меньше среднего LTV по выборке -> ставку понижаем\n",
    "\n",
    "* **Канал \"facebook\"**\n",
    "В группе age35 LTV немного выше среднего (на 5%) -> эту ставку не понижаем  \n",
    "В остальных группах половозрастных таргетов канала \"facebook\" привлекаются не такие выгодные пользователи, как в других каналах -> надо понизить ставки для этих групп (за счет понижений финансируем повышения других групп).*\n",
    "\n",
    "Цель изменения ставок - повысить суммарный LTV всех пользователей, привлекая лучших клиентов.  \n",
    "Рассматриваю отдельно аггрегации по полу и возрасту, не рассматриваю аггрегацию по utm_campaign тк слишко мало клиентов для рассуждении  \n",
    "\n",
    "***** *ставка = ставка или цена клика, или закупаемый объема.*"
   ]
  },
  {
   "cell_type": "code",
   "execution_count": null,
   "metadata": {},
   "outputs": [],
   "source": [
    "source_agg.iloc[:, 3:5]"
   ]
  },
  {
   "cell_type": "code",
   "execution_count": null,
   "metadata": {},
   "outputs": [],
   "source": [
    "#Пол по каналам\n",
    "sex_agg = (df.groupby(by=[\"utm_source\", \"sex\"]).agg(cust_count = ('cust_id', 'count'),\n",
    "         avg_orders = ('orders', 'mean'),\n",
    "         avg_ltv = ('ltv', 'mean')\n",
    "        ))"
   ]
  },
  {
   "cell_type": "code",
   "execution_count": null,
   "metadata": {},
   "outputs": [],
   "source": [
    "(sex_agg.round(0)\n",
    "    .style\n",
    "    .format(\"{:.0f}\")\n",
    "    .background_gradient(cmap='PuBu', axis=0))"
   ]
  },
  {
   "cell_type": "code",
   "execution_count": null,
   "metadata": {},
   "outputs": [],
   "source": [
    "#Возраст по каналам\n",
    "age_agg = (df.groupby(by=[\"utm_source\", \"age\"]).agg(cust_count = ('cust_id', 'count'),\n",
    "         avg_orders = ('orders', 'mean'),\n",
    "         avg_ltv = ('ltv', 'mean')\n",
    "        ))"
   ]
  },
  {
   "cell_type": "code",
   "execution_count": null,
   "metadata": {},
   "outputs": [],
   "source": [
    "(age_agg.round(0)\n",
    "    .style\n",
    "    .format(\"{:.0f}\")\n",
    "    .background_gradient(cmap='PuBu', axis=0))"
   ]
  },
  {
   "cell_type": "code",
   "execution_count": null,
   "metadata": {},
   "outputs": [],
   "source": [
    "#аггрегация по utm_campaign (пол+возраст) на всякий случай"
   ]
  },
  {
   "cell_type": "code",
   "execution_count": null,
   "metadata": {},
   "outputs": [],
   "source": [
    "#Возраст по каналам\n",
    "sex_age_agg = (df.groupby(by=[\"utm_source\",\"sex\", \"age\"]).agg(cust_count = ('cust_id', 'count'),\n",
    "         avg_orders = ('orders', 'mean'),\n",
    "         avg_ltv = ('ltv', 'mean')\n",
    "        ))"
   ]
  },
  {
   "cell_type": "code",
   "execution_count": null,
   "metadata": {},
   "outputs": [],
   "source": [
    "(sex_age_agg.round(0)\n",
    "    .style\n",
    "    .format(\"{:.0f}\")\n",
    "    .background_gradient(cmap='PuBu', axis=0))"
   ]
  },
  {
   "cell_type": "code",
   "execution_count": null,
   "metadata": {},
   "outputs": [],
   "source": [
    "df.iloc[:, 2:3].plot.hist(bins=60, alpha=0.5)"
   ]
  },
  {
   "cell_type": "markdown",
   "metadata": {},
   "source": [
    " всё."
   ]
  },
  {
   "cell_type": "markdown",
   "metadata": {},
   "source": [
    "<a id='summary'></a>\n",
    "### Только Выводы"
   ]
  },
  {
   "cell_type": "markdown",
   "metadata": {},
   "source": [
    "**2.** В данных пользователи уникальны. -> средний LTV на пользователя = средний LTV = **405,2**  \n",
    "среднее кол-во заказов = **30,6**  \n",
    "Распределения не перекошены, медианные значения LTV и заказов на уровне средних.\n",
    "\n",
    "У юзеров из каналов \"facebook\", \"google\" и \"mytarget\" среднее LTV **360**, **463** и **409** соответственно.\n",
    "\n",
    "Среднее кол-во заказов в каналах \"google\" и \"mytarget\" на одном уровне - 32,3 и 32,9. А вот из \"facebook\" делают в среднем на 7 заказов меньше (25,5)\n",
    "\n",
    "<table border=\"1\" class=\"dataframe\">\n",
    "  <thead>\n",
    "    <tr style=\"text-align: right;\">\n",
    "      <th></th>\n",
    "      <th>cust_count</th>\n",
    "      <th>avg_orders</th>\n",
    "      <th>avg_ltv</th>\n",
    "    </tr>\n",
    "    <tr>\n",
    "      <th>utm_source</th>\n",
    "      <th></th>\n",
    "      <th></th>\n",
    "      <th></th>\n",
    "    </tr>\n",
    "  </thead>\n",
    "  <tbody>\n",
    "    <tr>\n",
    "      <th>facebook</th>\n",
    "      <td>1501</td>\n",
    "      <td>25.5</td>\n",
    "      <td>359.5</td>\n",
    "    </tr>\n",
    "    <tr>\n",
    "      <th>google</th>\n",
    "      <td>1000</td>\n",
    "      <td>32.3</td>\n",
    "      <td>463.3</td>\n",
    "    </tr>\n",
    "    <tr>\n",
    "      <th>mytarget</th>\n",
    "      <td>2499</td>\n",
    "      <td>32.9</td>\n",
    "      <td>409.4</td>\n",
    "    </tr>\n",
    "  </tbody>\n",
    "</table>\n",
    "<img src=\"data:image/png;base64,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\">\n",
    "\n",
    "Лучшие средние метрики у пользователей из канала \"google\", но канал привлек всего 1000 пользователей (20%)  \n",
    "Хуже других выглядят метрики пользователей из \"facebook\" - заказы на пальзователя и LTV ниже средних (на 15% и 10% соответственно).\n",
    "\n",
    "**3.** Чтобы понять, какой канал наиболее эффективно работает, я предлагаю опираться не на средние метрики а на суммарные.\n",
    "\n",
    "Из канала \"mytarget\" пришло 50% клиентов - столько же, сколько из \"google\" и \"facebook\" вместе взятых.  \n",
    "Суммарное количество заказов (82286) и суммарный LTV (1023034) так же составили больше остальных каналов вместе.\n",
    "\n",
    "Не смотря на то, что средний LTV у пользователей из \"google\" чуть лучше, \"mytarget\" - самый эффективный канал.\n",
    "<img src=\"data:image/png;base64,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\n",
    "\">\n",
    "\n",
    "\n",
    "**4.** Как мы помним, у юзеров из \"google\" LTV больше, чем в других каналах (и больше среднего на 58 руб.) ->  \n",
    "Можем предположить, что повышение ставки***** для этого канала (модель utm_medium=cpc для всех) позволит привликать больше самых прибыльных клиентов.\n",
    "\n",
    "Но сначала проверим, нет ли специфики таргетов среди каналов, возможно мы сможем более точно настроить цены.  \n",
    "Посмотрим распределение таргетов по полу и возрасту в рамках каналов.\n",
    "\n",
    "***** *ставка = ставка или цена клика, или закупаемый объема.*\n",
    "\n",
    "<div class=\"output_subarea output_html rendered_html output_result\"><style type=\"text/css\">\n",
    "#T_8316048a_2c14_11eb_a6f2_f018981ed8aerow0_col0{\n",
    "            background-color:  #d3d4e7;\n",
    "            color:  #000000;\n",
    "        }#T_8316048a_2c14_11eb_a6f2_f018981ed8aerow0_col1{\n",
    "            background-color:  #ece7f2;\n",
    "            color:  #000000;\n",
    "        }#T_8316048a_2c14_11eb_a6f2_f018981ed8aerow0_col2,#T_8316048a_2c14_11eb_a6f2_f018981ed8aerow1_col1,#T_8316048a_2c14_11eb_a6f2_f018981ed8aerow2_col0{\n",
    "            background-color:  #fff7fb;\n",
    "            color:  #000000;\n",
    "        }#T_8316048a_2c14_11eb_a6f2_f018981ed8aerow1_col0,#T_8316048a_2c14_11eb_a6f2_f018981ed8aerow4_col2{\n",
    "            background-color:  #b3c3de;\n",
    "            color:  #000000;\n",
    "        }#T_8316048a_2c14_11eb_a6f2_f018981ed8aerow1_col2{\n",
    "            background-color:  #f3edf5;\n",
    "            color:  #000000;\n",
    "        }#T_8316048a_2c14_11eb_a6f2_f018981ed8aerow2_col1,#T_8316048a_2c14_11eb_a6f2_f018981ed8aerow2_col2,#T_8316048a_2c14_11eb_a6f2_f018981ed8aerow4_col0,#T_8316048a_2c14_11eb_a6f2_f018981ed8aerow4_col1,#T_8316048a_2c14_11eb_a6f2_f018981ed8aerow5_col1{\n",
    "            background-color:  #023858;\n",
    "            color:  #f1f1f1;\n",
    "        }#T_8316048a_2c14_11eb_a6f2_f018981ed8aerow3_col0{\n",
    "            background-color:  #f6eff7;\n",
    "            color:  #000000;\n",
    "        }#T_8316048a_2c14_11eb_a6f2_f018981ed8aerow3_col1{\n",
    "            background-color:  #04598c;\n",
    "            color:  #f1f1f1;\n",
    "        }#T_8316048a_2c14_11eb_a6f2_f018981ed8aerow3_col2{\n",
    "            background-color:  #045687;\n",
    "            color:  #f1f1f1;\n",
    "        }#T_8316048a_2c14_11eb_a6f2_f018981ed8aerow5_col0{\n",
    "            background-color:  #4295c3;\n",
    "            color:  #000000;\n",
    "        }#T_8316048a_2c14_11eb_a6f2_f018981ed8aerow5_col2{\n",
    "            background-color:  #2c89bd;\n",
    "            color:  #000000;\n",
    "        }</style><table id=\"T_8316048a_2c14_11eb_a6f2_f018981ed8ae\"><thead>    <tr>        <th class=\"blank\"></th>        <th class=\"blank level0\"></th>        <th class=\"col_heading level0 col0\">cust_count</th>        <th class=\"col_heading level0 col1\">avg_orders</th>        <th class=\"col_heading level0 col2\">avg_ltv</th>    </tr>    <tr>        <th class=\"index_name level0\">utm_source</th>        <th class=\"index_name level1\">sex</th>        <th class=\"blank\"></th>        <th class=\"blank\"></th>        <th class=\"blank\"></th>    </tr></thead><tbody>\n",
    "                <tr>\n",
    "                        <th id=\"T_8316048a_2c14_11eb_a6f2_f018981ed8aelevel0_row0\" class=\"row_heading level0 row0\" rowspan=\"2\">facebook</th>\n",
    "                        <th id=\"T_8316048a_2c14_11eb_a6f2_f018981ed8aelevel1_row0\" class=\"row_heading level1 row0\">female</th>\n",
    "                        <td id=\"T_8316048a_2c14_11eb_a6f2_f018981ed8aerow0_col0\" class=\"data row0 col0\">700</td>\n",
    "                        <td id=\"T_8316048a_2c14_11eb_a6f2_f018981ed8aerow0_col1\" class=\"data row0 col1\">26</td>\n",
    "                        <td id=\"T_8316048a_2c14_11eb_a6f2_f018981ed8aerow0_col2\" class=\"data row0 col2\">355</td>\n",
    "            </tr>\n",
    "            <tr>\n",
    "                                <th id=\"T_8316048a_2c14_11eb_a6f2_f018981ed8aelevel1_row1\" class=\"row_heading level1 row1\">male</th>\n",
    "                        <td id=\"T_8316048a_2c14_11eb_a6f2_f018981ed8aerow1_col0\" class=\"data row1 col0\">801</td>\n",
    "                        <td id=\"T_8316048a_2c14_11eb_a6f2_f018981ed8aerow1_col1\" class=\"data row1 col1\">25</td>\n",
    "                        <td id=\"T_8316048a_2c14_11eb_a6f2_f018981ed8aerow1_col2\" class=\"data row1 col2\">364</td>\n",
    "            </tr>\n",
    "            <tr>\n",
    "                        <th id=\"T_8316048a_2c14_11eb_a6f2_f018981ed8aelevel0_row2\" class=\"row_heading level0 row2\" rowspan=\"2\">google</th>\n",
    "                        <th id=\"T_8316048a_2c14_11eb_a6f2_f018981ed8aelevel1_row2\" class=\"row_heading level1 row2\">female</th>\n",
    "                        <td id=\"T_8316048a_2c14_11eb_a6f2_f018981ed8aerow2_col0\" class=\"data row2 col0\">471</td>\n",
    "                        <td id=\"T_8316048a_2c14_11eb_a6f2_f018981ed8aerow2_col1\" class=\"data row2 col1\">33</td>\n",
    "                        <td id=\"T_8316048a_2c14_11eb_a6f2_f018981ed8aerow2_col2\" class=\"data row2 col2\">470</td>\n",
    "            </tr>\n",
    "            <tr>\n",
    "                                <th id=\"T_8316048a_2c14_11eb_a6f2_f018981ed8aelevel1_row3\" class=\"row_heading level1 row3\">male</th>\n",
    "                        <td id=\"T_8316048a_2c14_11eb_a6f2_f018981ed8aerow3_col0\" class=\"data row3 col0\">529</td>\n",
    "                        <td id=\"T_8316048a_2c14_11eb_a6f2_f018981ed8aerow3_col1\" class=\"data row3 col1\">32</td>\n",
    "                        <td id=\"T_8316048a_2c14_11eb_a6f2_f018981ed8aerow3_col2\" class=\"data row3 col2\">457</td>\n",
    "            </tr>\n",
    "            <tr>\n",
    "                        <th id=\"T_8316048a_2c14_11eb_a6f2_f018981ed8aelevel0_row4\" class=\"row_heading level0 row4\" rowspan=\"2\">mytarget</th>\n",
    "                        <th id=\"T_8316048a_2c14_11eb_a6f2_f018981ed8aelevel1_row4\" class=\"row_heading level1 row4\">female</th>\n",
    "                        <td id=\"T_8316048a_2c14_11eb_a6f2_f018981ed8aerow4_col0\" class=\"data row4 col0\">1444</td>\n",
    "                        <td id=\"T_8316048a_2c14_11eb_a6f2_f018981ed8aerow4_col1\" class=\"data row4 col1\">33</td>\n",
    "                        <td id=\"T_8316048a_2c14_11eb_a6f2_f018981ed8aerow4_col2\" class=\"data row4 col2\">394</td>\n",
    "            </tr>\n",
    "            <tr>\n",
    "                                <th id=\"T_8316048a_2c14_11eb_a6f2_f018981ed8aelevel1_row5\" class=\"row_heading level1 row5\">male</th>\n",
    "                        <td id=\"T_8316048a_2c14_11eb_a6f2_f018981ed8aerow5_col0\" class=\"data row5 col0\">1055</td>\n",
    "                        <td id=\"T_8316048a_2c14_11eb_a6f2_f018981ed8aerow5_col1\" class=\"data row5 col1\">33</td>\n",
    "                        <td id=\"T_8316048a_2c14_11eb_a6f2_f018981ed8aerow5_col2\" class=\"data row5 col2\">430</td>\n",
    "            </tr>\n",
    "    </tbody></table></div>\n",
    "    \n",
    "<table id=\"T_83244202_2c14_11eb_a6f2_f018981ed8ae\"><thead>    <tr>        <th class=\"blank\"></th>        <th class=\"blank level0\"></th>        <th class=\"col_heading level0 col0\">cust_count</th>        <th class=\"col_heading level0 col1\">avg_orders</th>        <th class=\"col_heading level0 col2\">avg_ltv</th>    </tr>    <tr>        <th class=\"index_name level0\">utm_source</th>        <th class=\"index_name level1\">age</th>        <th class=\"blank\"></th>        <th class=\"blank\"></th>        <th class=\"blank\"></th>    </tr></thead><tbody>\n",
    "                <tr>\n",
    "                        <th id=\"T_83244202_2c14_11eb_a6f2_f018981ed8aelevel0_row0\" class=\"row_heading level0 row0\" rowspan=\"3\">facebook</th>\n",
    "                        <th id=\"T_83244202_2c14_11eb_a6f2_f018981ed8aelevel1_row0\" class=\"row_heading level1 row0\">age18-24</th>\n",
    "                        <td id=\"T_83244202_2c14_11eb_a6f2_f018981ed8aerow0_col0\" class=\"data row0 col0\">445</td>\n",
    "                        <td id=\"T_83244202_2c14_11eb_a6f2_f018981ed8aerow0_col1\" class=\"data row0 col1\">26</td>\n",
    "                        <td id=\"T_83244202_2c14_11eb_a6f2_f018981ed8aerow0_col2\" class=\"data row0 col2\">322</td>\n",
    "            </tr>\n",
    "            <tr>\n",
    "                                <th id=\"T_83244202_2c14_11eb_a6f2_f018981ed8aelevel1_row1\" class=\"row_heading level1 row1\">age25-34</th>\n",
    "                        <td id=\"T_83244202_2c14_11eb_a6f2_f018981ed8aerow1_col0\" class=\"data row1 col0\">671</td>\n",
    "                        <td id=\"T_83244202_2c14_11eb_a6f2_f018981ed8aerow1_col1\" class=\"data row1 col1\">25</td>\n",
    "                        <td id=\"T_83244202_2c14_11eb_a6f2_f018981ed8aerow1_col2\" class=\"data row1 col2\">349</td>\n",
    "            </tr>\n",
    "            <tr>\n",
    "                                <th id=\"T_83244202_2c14_11eb_a6f2_f018981ed8aelevel1_row2\" class=\"row_heading level1 row2\">age35 </th>\n",
    "                        <td id=\"T_83244202_2c14_11eb_a6f2_f018981ed8aerow2_col0\" class=\"data row2 col0\">385</td>\n",
    "                        <td id=\"T_83244202_2c14_11eb_a6f2_f018981ed8aerow2_col1\" class=\"data row2 col1\">25</td>\n",
    "                        <td id=\"T_83244202_2c14_11eb_a6f2_f018981ed8aerow2_col2\" class=\"data row2 col2\">421</td>\n",
    "            </tr>\n",
    "            <tr>\n",
    "                        <th id=\"T_83244202_2c14_11eb_a6f2_f018981ed8aelevel0_row3\" class=\"row_heading level0 row3\" rowspan=\"3\">google</th>\n",
    "                        <th id=\"T_83244202_2c14_11eb_a6f2_f018981ed8aelevel1_row3\" class=\"row_heading level1 row3\">age18-24</th>\n",
    "                        <td id=\"T_83244202_2c14_11eb_a6f2_f018981ed8aerow3_col0\" class=\"data row3 col0\">322</td>\n",
    "                        <td id=\"T_83244202_2c14_11eb_a6f2_f018981ed8aerow3_col1\" class=\"data row3 col1\">33</td>\n",
    "                        <td id=\"T_83244202_2c14_11eb_a6f2_f018981ed8aerow3_col2\" class=\"data row3 col2\">508</td>\n",
    "            </tr>\n",
    "            <tr>\n",
    "                                <th id=\"T_83244202_2c14_11eb_a6f2_f018981ed8aelevel1_row4\" class=\"row_heading level1 row4\">age25-34</th>\n",
    "                        <td id=\"T_83244202_2c14_11eb_a6f2_f018981ed8aerow4_col0\" class=\"data row4 col0\">383</td>\n",
    "                        <td id=\"T_83244202_2c14_11eb_a6f2_f018981ed8aerow4_col1\" class=\"data row4 col1\">31</td>\n",
    "                        <td id=\"T_83244202_2c14_11eb_a6f2_f018981ed8aerow4_col2\" class=\"data row4 col2\">458</td>\n",
    "            </tr>\n",
    "            <tr>\n",
    "                                <th id=\"T_83244202_2c14_11eb_a6f2_f018981ed8aelevel1_row5\" class=\"row_heading level1 row5\">age35 </th>\n",
    "                        <td id=\"T_83244202_2c14_11eb_a6f2_f018981ed8aerow5_col0\" class=\"data row5 col0\">295</td>\n",
    "                        <td id=\"T_83244202_2c14_11eb_a6f2_f018981ed8aerow5_col1\" class=\"data row5 col1\">33</td>\n",
    "                        <td id=\"T_83244202_2c14_11eb_a6f2_f018981ed8aerow5_col2\" class=\"data row5 col2\">421</td>\n",
    "            </tr>\n",
    "            <tr>\n",
    "                        <th id=\"T_83244202_2c14_11eb_a6f2_f018981ed8aelevel0_row6\" class=\"row_heading level0 row6\" rowspan=\"3\">mytarget</th>\n",
    "                        <th id=\"T_83244202_2c14_11eb_a6f2_f018981ed8aelevel1_row6\" class=\"row_heading level1 row6\">age18-24</th>\n",
    "                        <td id=\"T_83244202_2c14_11eb_a6f2_f018981ed8aerow6_col0\" class=\"data row6 col0\">833</td>\n",
    "                        <td id=\"T_83244202_2c14_11eb_a6f2_f018981ed8aerow6_col1\" class=\"data row6 col1\">33</td>\n",
    "                        <td id=\"T_83244202_2c14_11eb_a6f2_f018981ed8aerow6_col2\" class=\"data row6 col2\">358</td>\n",
    "            </tr>\n",
    "            <tr>\n",
    "                                <th id=\"T_83244202_2c14_11eb_a6f2_f018981ed8aelevel1_row7\" class=\"row_heading level1 row7\">age25-34</th>\n",
    "                        <td id=\"T_83244202_2c14_11eb_a6f2_f018981ed8aerow7_col0\" class=\"data row7 col0\">1065</td>\n",
    "                        <td id=\"T_83244202_2c14_11eb_a6f2_f018981ed8aerow7_col1\" class=\"data row7 col1\">33</td>\n",
    "                        <td id=\"T_83244202_2c14_11eb_a6f2_f018981ed8aerow7_col2\" class=\"data row7 col2\">428</td>\n",
    "            </tr>\n",
    "            <tr>\n",
    "                                <th id=\"T_83244202_2c14_11eb_a6f2_f018981ed8aelevel1_row8\" class=\"row_heading level1 row8\">age35 </th>\n",
    "                        <td id=\"T_83244202_2c14_11eb_a6f2_f018981ed8aerow8_col0\" class=\"data row8 col0\">601</td>\n",
    "                        <td id=\"T_83244202_2c14_11eb_a6f2_f018981ed8aerow8_col1\" class=\"data row8 col1\">32</td>\n",
    "                        <td id=\"T_83244202_2c14_11eb_a6f2_f018981ed8aerow8_col2\" class=\"data row8 col2\">447</td>\n",
    "            </tr>\n",
    "    </tbody></table>\n",
    "\n",
    "* **Канал \"google\"**\n",
    "Самые высокие средние заказы и LTV, отдинаково распределены между обоими полами -> в \"google\" стоит повысить ставки для обоих полов.  \n",
    "Для всех возрастных групп в этом канале заказы и LTV так же выше средних -> стоит повысить ставки для всех возрастов, особенно для группы age18-24 - в ней самый высокий LTV среди всех возможных.\n",
    "\n",
    "* **Канал \"mytarget\"**\n",
    "В \"mytarget\" таргет на мужчин привликает более выгодных клиентов, чем таргет на женщин (LTV 430 против LTV 394) -> для мужчин надо повысить ставку.  \n",
    "В возрастной группе age35 LTV больше средного (на 10%) -> ставку повышаем.  \n",
    "А вот в группе age18-24 средний LTV на 12% меньше среднего LTV по выборке -> ставку понижаем\n",
    "\n",
    "* **Канал \"facebook\"**\n",
    "В группе age35 LTV немного выше среднего (на 5%) -> эту ставку не понижаем  \n",
    "В остальных группах половозрастных таргетов канала \"facebook\" привлекаются не такие выгодные пользователи, как в других каналах -> надо понизить ставки для этих групп (за счет понижений финансируем повышения других групп).*\n",
    "\n",
    "Цель изменения ставок - повысить суммарный LTV всех пользователей, привлекая лучших клиентов.  \n",
    "Рассматриваем отдельно аггрегации по полу и по возрасту, а не аггрегацию по utm_campaign тк в образованных группах часто слишком мало клиентов для вывода."
   ]
  },
  {
   "cell_type": "markdown",
   "metadata": {},
   "source": [
    "#### [назад к расчетам](#nachalo)"
   ]
  },
  {
   "cell_type": "code",
   "execution_count": null,
   "metadata": {},
   "outputs": [],
   "source": []
  }
 ],
 "metadata": {
  "kernelspec": {
   "display_name": "Python 3",
   "language": "python",
   "name": "python3"
  },
  "language_info": {
   "codemirror_mode": {
    "name": "ipython",
    "version": 3
   },
   "file_extension": ".py",
   "mimetype": "text/x-python",
   "name": "python",
   "nbconvert_exporter": "python",
   "pygments_lexer": "ipython3",
   "version": "3.7.0"
  }
 },
 "nbformat": 4,
 "nbformat_minor": 2
}
